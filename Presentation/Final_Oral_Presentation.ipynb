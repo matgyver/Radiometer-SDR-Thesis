{
 "cells": [
  {
   "cell_type": "markdown",
   "metadata": {
    "slideshow": {
     "slide_type": "slide"
    }
   },
   "source": [
    "#Implementation of a Total Power Radiometer in Software Defined Radios\n",
    "##Matthew E. Nelson\n",
    "\n",
    "###Iowa State University\n",
    "###Electrical and Computer Engineering\n",
    "\n",
    "_mnelson@iastate.edu_\n",
    "\n",
    "#MS Thesis Final Oral Presentation"
   ]
  },
  {
   "cell_type": "markdown",
   "metadata": {
    "collapsed": true,
    "slideshow": {
     "slide_type": "slide"
    }
   },
   "source": [
    "#POS Committee\n",
    "\n",
    "###Dr. Phillip Jones, Dr. Mani Mina, Dr. John Basart\n",
    "\n",
    "##Additional Support\n",
    "\n",
    "###Dr. Brian Hornbuckle\n",
    "\n",
    "##Special Thanks\n",
    "\n",
    "###My wife, Jennifer and my family for their support"
   ]
  },
  {
   "cell_type": "markdown",
   "metadata": {
    "slideshow": {
     "slide_type": "slide"
    }
   },
   "source": [
    "# Introduction and Background\n",
    "##Presentation Goals\n",
    "The goal of this presentation is to present my research into implementing a total power radiometer using low cost hardware and software used in software defined radios.\n"
   ]
  },
  {
   "cell_type": "markdown",
   "metadata": {
    "slideshow": {
     "slide_type": "notes"
    }
   },
   "source": [
    "Marcus is the Principal Investigator at SBRAC and also a contributor to the radiometer branch in GNURadio.  Although this branch is no longer maintained, he still answers questions about using radiometers with GNURadio"
   ]
  },
  {
   "cell_type": "code",
   "execution_count": null,
   "metadata": {
    "collapsed": true,
    "slideshow": {
     "slide_type": "skip"
    }
   },
   "outputs": [],
   "source": []
  }
 ],
 "metadata": {
  "celltoolbar": "Slideshow",
  "kernelspec": {
   "display_name": "Python 2",
   "language": "python",
   "name": "python2"
  },
  "language_info": {
   "codemirror_mode": {
    "name": "ipython",
    "version": 2
   },
   "file_extension": ".py",
   "mimetype": "text/x-python",
   "name": "python",
   "nbconvert_exporter": "python",
   "pygments_lexer": "ipython2",
   "version": "2.7.6"
  }
 },
 "nbformat": 4,
 "nbformat_minor": 0
}
