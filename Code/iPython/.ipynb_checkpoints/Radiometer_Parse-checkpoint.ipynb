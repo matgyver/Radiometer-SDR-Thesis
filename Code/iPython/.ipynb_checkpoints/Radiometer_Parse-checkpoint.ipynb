{
 "metadata": {
  "name": "",
  "signature": "sha256:43e3277dfd69847415290e04fb58e48891f0f6ec4afc89e7a89945034b02f0b0"
 },
 "nbformat": 3,
 "nbformat_minor": 0,
 "worksheets": [
  {
   "cells": [
    {
     "cell_type": "heading",
     "level": 1,
     "metadata": {},
     "source": [
      "Radiometer Parsing Function"
     ]
    },
    {
     "cell_type": "markdown",
     "metadata": {},
     "source": [
      "This code shows an example of reading in and plotting data that is outputted from a GNURadio GRC file.  In this example a Total Power Radiometer is developed in GNURadio GRC and uses the File Sink function to store the data.  The plot then shows the total power output from the radiometer as a matched load is submerged in Liquid Nitrogen, then Ice Water and then left to dry.\n",
      "- - -"
     ]
    },
    {
     "cell_type": "heading",
     "level": 2,
     "metadata": {},
     "source": [
      "Read the data"
     ]
    },
    {
     "cell_type": "markdown",
     "metadata": {},
     "source": [
      "Import Needed functions"
     ]
    },
    {
     "cell_type": "code",
     "collapsed": false,
     "input": [
      "%pylab inline"
     ],
     "language": "python",
     "metadata": {},
     "outputs": [
      {
       "output_type": "stream",
       "stream": "stdout",
       "text": [
        "Populating the interactive namespace from numpy and matplotlib\n"
       ]
      }
     ],
     "prompt_number": 1
    },
    {
     "cell_type": "code",
     "collapsed": false,
     "input": [
      "import scipy\n",
      "import numpy\n",
      "import scipy.io as sio\n",
      "import csv"
     ],
     "language": "python",
     "metadata": {},
     "outputs": [],
     "prompt_number": 2
    },
    {
     "cell_type": "markdown",
     "metadata": {},
     "source": [
      "Use this to set the filename for the data file and CSV Calibration file."
     ]
    },
    {
     "cell_type": "code",
     "collapsed": false,
     "input": [
      "tpr = 'tpr_2014.06.12.Lab0.dat'\n",
      "calib = 'tpr_calib_2014.06.12.Lab0.csv'"
     ],
     "language": "python",
     "metadata": {},
     "outputs": [],
     "prompt_number": 3
    },
    {
     "cell_type": "markdown",
     "metadata": {},
     "source": [
      "Uses SciPy to open the binary file from GNURadio"
     ]
    },
    {
     "cell_type": "code",
     "collapsed": false,
     "input": [
      "f = scipy.fromfile(open(tpr),dtype=scipy.float32)"
     ],
     "language": "python",
     "metadata": {},
     "outputs": [],
     "prompt_number": 4
    },
    {
     "cell_type": "markdown",
     "metadata": {},
     "source": [
      "Because of the valve function in GNURadio, there are zeros that get added to the file.  We want to trim out those zeros."
     ]
    },
    {
     "cell_type": "code",
     "collapsed": false,
     "input": [
      "f = numpy.trim_zeros(f)"
     ],
     "language": "python",
     "metadata": {},
     "outputs": [],
     "prompt_number": 5
    },
    {
     "cell_type": "markdown",
     "metadata": {},
     "source": [
      "Create an index array for plotting"
     ]
    },
    {
     "cell_type": "code",
     "collapsed": false,
     "input": [
      "y = numpy.linspace(0,1,numpy.size(f))"
     ],
     "language": "python",
     "metadata": {},
     "outputs": [],
     "prompt_number": 6
    },
    {
     "cell_type": "heading",
     "level": 2,
     "metadata": {},
     "source": [
      "Plot the data"
     ]
    },
    {
     "cell_type": "code",
     "collapsed": false,
     "input": [
      "plot(y,f)\n",
      "xlabel('Tme')\n",
      "ylabel('rQ Values')\n",
      "title('rQ vs Time')\n",
      "grid(True)"
     ],
     "language": "python",
     "metadata": {},
     "outputs": [
      {
       "metadata": {},
       "output_type": "display_data",
       "png": "[encoded data removed]",
       "text": [
        "<matplotlib.figure.Figure at 0x7d42470>"
       ]
      }
     ],
     "prompt_number": 7
    },
    {
     "cell_type": "markdown",
     "metadata": {},
     "source": [
      "## Calibration"
     ]
    },
    {
     "cell_type": "markdown",
     "metadata": {},
     "source": [
      "The rQ values are the raw values from the total power radiometer and are uncalibrated.  While the graph shows the change in the total power recorded and shows that the radiometer can detect changes in noise temperature, it has no other meaning than that.  What we want is to show what the total power is in relation to a noise temperature.  Since we have recorded the values of the rQ at fixed and known teperatures, we can create a calibration line and calibrate the radiometer.  For this experiment, we found that the following values matched our two known temperatures.\n",
      "\n",
      "|rQ Value|Temperature\n",
      "|--------|-----------\n",
      "|.0977   |77 K\n",
      "|.1507   |273.15 K\n",
      "\n",
      "We can now solve for y = mx + b since we have two equations and two unknowns.\n",
      "- - -"
     ]
    },
    {
     "cell_type": "markdown",
     "metadata": {},
     "source": [
      "We need to read in the values from our CSV file that contains the values"
     ]
    },
    {
     "cell_type": "code",
     "collapsed": false,
     "input": [
      "read_csv = open(calib, 'rb')\n",
      "csvread = csv.reader(read_csv)\n",
      "rQ_values = []\n",
      "temp_values = []\n",
      "\n",
      "for row in csvread:\n",
      "    rQ,temp = row\n",
      "    rQ_values.append(float(rQ))\n",
      "    temp_values.append(float(temp))\n",
      "read_csv.close()"
     ],
     "language": "python",
     "metadata": {},
     "outputs": [
      {
       "output_type": "stream",
       "stream": "stdout",
       "text": [
        "0.1597\n",
        "[77.0, 273.15]\n"
       ]
      }
     ],
     "prompt_number": 10
    },
    {
     "cell_type": "code",
     "collapsed": false,
     "input": [
      "a = numpy.array([[rQ_values[0],1.0],[rQ_values[1],1.0]],numpy.float32)\n",
      "b = numpy.array([temp_values[0],temp_values[1]])"
     ],
     "language": "python",
     "metadata": {},
     "outputs": [],
     "prompt_number": 11
    },
    {
     "cell_type": "code",
     "collapsed": false,
     "input": [
      "z = numpy.linalg.solve(a,b)\n",
      "print z"
     ],
     "language": "python",
     "metadata": {},
     "outputs": [
      {
       "output_type": "stream",
       "stream": "stdout",
       "text": [
        "[ 3163.70934894  -232.09440279]\n"
       ]
      }
     ],
     "prompt_number": 12
    },
    {
     "cell_type": "markdown",
     "metadata": {},
     "source": [
      "Now we apply these values to the array that holds our raw rQ values"
     ]
    },
    {
     "cell_type": "code",
     "collapsed": false,
     "input": [
      "g = f*z[0]+z[1]"
     ],
     "language": "python",
     "metadata": {},
     "outputs": [],
     "prompt_number": 10
    },
    {
     "cell_type": "markdown",
     "metadata": {},
     "source": [
      "Now we can re-plot the graph but this time with the calibrated noise temperatures"
     ]
    },
    {
     "cell_type": "code",
     "collapsed": false,
     "input": [
      "plot(y,g)\n",
      "v = [0,1,50,310]\n",
      "axis(v)\n",
      "xlabel('Time')\n",
      "ylabel('Noise Temperature (K)')\n",
      "title('Temp vs Time')\n",
      "grid(True)"
     ],
     "language": "python",
     "metadata": {},
     "outputs": [
      {
       "metadata": {},
       "output_type": "display_data",
       "png": "[encoded data removed]",
       "text": [
        "<matplotlib.figure.Figure at 0x7e7f860>"
       ]
      }
     ],
     "prompt_number": 11
    },
    {
     "cell_type": "markdown",
     "metadata": {},
     "source": [
      "This is looking better, but the time at the bottom doesn't have much meaning.  Since we know the sample rate of the Software Defined Radio, we can calculate the time interval between each sample."
     ]
    },
    {
     "cell_type": "code",
     "collapsed": false,
     "input": [],
     "language": "python",
     "metadata": {},
     "outputs": []
    }
   ],
   "metadata": {}
  }
 ]
}