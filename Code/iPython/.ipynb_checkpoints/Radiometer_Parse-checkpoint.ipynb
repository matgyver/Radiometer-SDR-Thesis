{
 "metadata": {
  "name": "",
  "signature": "sha256:511d32b2d69e8255b2ae2640a4fffa9d713eefdd769d79f134a5765d848df42f"
 },
 "nbformat": 3,
 "nbformat_minor": 0,
 "worksheets": [
  {
   "cells": [
    {
     "cell_type": "heading",
     "level": 1,
     "metadata": {},
     "source": [
      "Radiometer Parsing Function"
     ]
    },
    {
     "cell_type": "markdown",
     "metadata": {},
     "source": [
      "This code shows an example of reading in and plotting data that is outputted from a GNURadio GRC file.  In this example a Total Power Radiometer is developed in GNURadio GRC and uses the File Sink function to store the data.  The plot then shows the total power output from the radiometer as a matched load is submerged in Liquid Nitrogen, then Ice Water and then left to dry.\n",
      "- - -"
     ]
    },
    {
     "cell_type": "heading",
     "level": 2,
     "metadata": {},
     "source": [
      "Read the data"
     ]
    },
    {
     "cell_type": "markdown",
     "metadata": {},
     "source": [
      "Import Needed functions"
     ]
    },
    {
     "cell_type": "code",
     "collapsed": false,
     "input": [
      "%pylab inline"
     ],
     "language": "python",
     "metadata": {},
     "outputs": [
      {
       "output_type": "stream",
       "stream": "stdout",
       "text": [
        "Populating the interactive namespace from numpy and matplotlib\n"
       ]
      }
     ],
     "prompt_number": 1
    },
    {
     "cell_type": "code",
     "collapsed": false,
     "input": [
      "import scipy\n",
      "import numpy\n",
      "import scipy.io as sio\n",
      "import csv"
     ],
     "language": "python",
     "metadata": {},
     "outputs": [],
     "prompt_number": 2
    },
    {
     "cell_type": "markdown",
     "metadata": {},
     "source": [
      "Use this to set the filename for the data file and CSV Calibration file."
     ]
    },
    {
     "cell_type": "code",
     "collapsed": false,
     "input": [
      "tpr = 'tpr_2014.06.12.Lab0.dat'\n",
      "calib = 'tpr_calib_2014.06.12.Lab0.csv'\n",
      "x2_data = 'tpr_x2_2014.06.12.Lab0.csv'"
     ],
     "language": "python",
     "metadata": {},
     "outputs": [],
     "prompt_number": 18
    },
    {
     "cell_type": "markdown",
     "metadata": {},
     "source": [
      "Uses SciPy to open the binary file from GNURadio"
     ]
    },
    {
     "cell_type": "code",
     "collapsed": false,
     "input": [
      "f = scipy.fromfile(open(tpr),dtype=scipy.float32)"
     ],
     "language": "python",
     "metadata": {},
     "outputs": [],
     "prompt_number": 4
    },
    {
     "cell_type": "markdown",
     "metadata": {},
     "source": [
      "Because of the valve function in GNURadio, there are zeros that get added to the file.  We want to trim out those zeros."
     ]
    },
    {
     "cell_type": "code",
     "collapsed": false,
     "input": [
      "f = numpy.trim_zeros(f)"
     ],
     "language": "python",
     "metadata": {},
     "outputs": [],
     "prompt_number": 5
    },
    {
     "cell_type": "markdown",
     "metadata": {},
     "source": [
      "Create an index array for plotting.  Also, since we know the interval the data is taken, we can convert this to an actual time."
     ]
    },
    {
     "cell_type": "code",
     "collapsed": false,
     "input": [
      "y = numpy.linspace(0,(len(f)*.5),numpy.size(f))"
     ],
     "language": "python",
     "metadata": {},
     "outputs": [],
     "prompt_number": 6
    },
    {
     "cell_type": "heading",
     "level": 2,
     "metadata": {},
     "source": [
      "Plot the data"
     ]
    },
    {
     "cell_type": "code",
     "collapsed": false,
     "input": [
      "plot(y,f)\n",
      "xlabel('Time (sec)')\n",
      "ylabel('rQ Values')\n",
      "title('rQ vs Time')\n",
      "grid(True)"
     ],
     "language": "python",
     "metadata": {},
     "outputs": [
      {
       "metadata": {},
       "output_type": "display_data",
       "png": "[encoded data removed]",
       "text": [
        "<matplotlib.figure.Figure at 0x10d971c50>"
       ]
      }
     ],
     "prompt_number": 7
    },
    {
     "cell_type": "markdown",
     "metadata": {},
     "source": [
      "## Calibration"
     ]
    },
    {
     "cell_type": "markdown",
     "metadata": {},
     "source": [
      "The rQ values are the raw values from the total power radiometer and are uncalibrated.  While the graph shows the change in the total power recorded and shows that the radiometer can detect changes in noise temperature, it has no other meaning than that.  What we want is to show what the total power is in relation to a noise temperature.  Since we have recorded the values of the rQ at fixed and known teperatures, we can create a calibration line and calibrate the radiometer.  For this experiment, we found that the following values matched our two known temperatures.\n",
      "\n",
      "|rQ Value|X^2 Voltage|Temperature\n",
      "|--------|-----------------------\n",
      "|.0977   | 1.9617    |77 K\n",
      "|.1507   | 2.085     |273.15 K\n",
      "\n",
      "We can now solve for y = mx + b since we have two equations and two unknowns.\n",
      "\n",
      "To work with this, a calibration file is created.  This is a very simple CSV file that contains 3 values: The raw rQ value, the raw voltage from the square-law detector (discussed later) and the observed temperature.  The table above would then look like the following in the file.\n",
      "```\n",
      ".0977,1.9617,77\n",
      ".1507,2.085,273.15\n",
      "```\n",
      "- - -"
     ]
    },
    {
     "cell_type": "markdown",
     "metadata": {},
     "source": [
      "We need to read in the values from our CSV file that contains the values"
     ]
    },
    {
     "cell_type": "code",
     "collapsed": false,
     "input": [
      "read_csv = open(calib, 'rb')\n",
      "csvread = csv.reader(read_csv)\n",
      "rQ_values = []\n",
      "temp_values = []\n",
      "\n",
      "for row in csvread:\n",
      "    rQ,volt,temp = row\n",
      "    rQ_values.append(float(rQ))\n",
      "    voltage.append(float(volt))\n",
      "    temp_values.append(float(temp))\n",
      "read_csv.close()"
     ],
     "language": "python",
     "metadata": {},
     "outputs": [],
     "prompt_number": 8
    },
    {
     "cell_type": "code",
     "collapsed": false,
     "input": [
      "a = numpy.array([[rQ_values[0],1.0],[rQ_values[1],1.0]],numpy.float32)\n",
      "b = numpy.array([temp_values[0],temp_values[1]])"
     ],
     "language": "python",
     "metadata": {},
     "outputs": [],
     "prompt_number": 9
    },
    {
     "cell_type": "code",
     "collapsed": false,
     "input": [
      "z = numpy.linalg.solve(a,b)\n",
      "print z"
     ],
     "language": "python",
     "metadata": {},
     "outputs": [
      {
       "output_type": "stream",
       "stream": "stdout",
       "text": [
        "[ 3700.9431798   -284.58214796]\n"
       ]
      }
     ],
     "prompt_number": 13
    },
    {
     "cell_type": "markdown",
     "metadata": {},
     "source": [
      "Now we apply these values to the array that holds our raw rQ values"
     ]
    },
    {
     "cell_type": "code",
     "collapsed": false,
     "input": [
      "g = f*z[0]+z[1]"
     ],
     "language": "python",
     "metadata": {},
     "outputs": [],
     "prompt_number": 14
    },
    {
     "cell_type": "markdown",
     "metadata": {},
     "source": [
      "Now we can re-plot the graph but this time with the calibrated noise temperatures"
     ]
    },
    {
     "cell_type": "code",
     "collapsed": false,
     "input": [
      "plot(y,g)\n",
      "xlabel('Time')\n",
      "ylabel('Noise Temperature (K)')\n",
      "title('Temp vs Time')\n",
      "grid(True)"
     ],
     "language": "python",
     "metadata": {},
     "outputs": [
      {
       "metadata": {},
       "output_type": "display_data",
       "png": "[encoded data removed]",
       "text": [
        "<matplotlib.figure.Figure at 0x10e896350>"
       ]
      }
     ],
     "prompt_number": 17
    },
    {
     "cell_type": "markdown",
     "metadata": {},
     "source": [
      "This is looking better, but the time at the bottom doesn't have much meaning.  Since we know the sample rate of the Software Defined Radio, we can calculate the time interval between each sample."
     ]
    },
    {
     "cell_type": "markdown",
     "metadata": {},
     "source": [
      "- - -\n",
      "# Square-law data\n",
      "\n",
      "We now want to look at the data from the Square-Law detector to verify the operation of the SDR.  In the experiment that was conducted above, a power splitter was used to split the RF signal so that one went to the SDR and the other to a square-law detector (with a 3.1 dB loss though).  Therefore both data should be the same.  Let's read and then plot this data."
     ]
    },
    {
     "cell_type": "code",
     "collapsed": false,
     "input": [
      "read_csv = open(x2_data, 'rb')\n",
      "csvread = csv.reader(read_csv)\n",
      "dummy = []\n",
      "x2_voltage = []\n",
      "\n",
      "for row in csvread:\n",
      "    dummy,voltage = row    \n",
      "    x2_voltage.append(float(voltage))\n",
      "read_csv.close()"
     ],
     "language": "python",
     "metadata": {},
     "outputs": [],
     "prompt_number": 24
    },
    {
     "cell_type": "markdown",
     "metadata": {},
     "source": [
      "Like the SDR data, we want to have a time reference at the bottom."
     ]
    },
    {
     "cell_type": "code",
     "collapsed": false,
     "input": [
      "w = numpy.linspace(0,(len(x2_voltage)*.01),numpy.size(x2_voltage))"
     ],
     "language": "python",
     "metadata": {},
     "outputs": [],
     "prompt_number": 25
    },
    {
     "cell_type": "code",
     "collapsed": false,
     "input": [
      "plot(w,x2_voltage)\n",
      "xlabel('Time (sec)')\n",
      "ylabel('Voltage (V)')\n",
      "title('X^2 Voltage vs Time')\n",
      "grid(True)\n"
     ],
     "language": "python",
     "metadata": {},
     "outputs": [
      {
       "metadata": {},
       "output_type": "display_data",
       "png": "[encoded data removed]",
       "text": [
        "<matplotlib.figure.Figure at 0x10d98b310>"
       ]
      }
     ],
     "prompt_number": 26
    },
    {
     "cell_type": "markdown",
     "metadata": {},
     "source": [
      "The Square-law detector doesn't have a filter on it unlike the data we get from the SDR.  The GNURadio program takes the data and applies a Low Pass Filter to \"clean up\" the information.  We need to do the same with our Square-law data."
     ]
    },
    {
     "cell_type": "code",
     "collapsed": false,
     "input": [],
     "language": "python",
     "metadata": {},
     "outputs": []
    }
   ],
   "metadata": {}
  }
 ]
}