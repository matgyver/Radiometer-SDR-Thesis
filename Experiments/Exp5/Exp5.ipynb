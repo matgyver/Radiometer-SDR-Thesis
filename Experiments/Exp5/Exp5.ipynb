{
 "cells": [
  {
   "cell_type": "markdown",
   "metadata": {},
   "source": [
    "#Radiometer Experiment 5 - Performance vs bandwidth"
   ]
  },
  {
   "cell_type": "markdown",
   "metadata": {},
   "source": [
    "Recall from Exp 1 where we looked at $NE\\Delta T$ which lets us know what the sensitivity or performance of the radiometer will be.  Recall the following equation for $NE\\Delta T$\n",
    "\n",
    "\n",
    "(1)  $$NE\\Delta T=\\frac{T_{A}+T_{sys}}{\\sqrt{\\beta  \\tau}}$$\n",
    "\n",
    "Our sensitivity is based on the amount of noise we have from both the antenna or $T_{A}$ plus the addition of our system noise which is $T_{sys}$.  Finally our bandwidth of the signal, $\\beta$ and our integration time, $\\tau$, are the final factors that determine our $NE\\Delta T$.\n",
    "\n",
    "Our integration time is controllable, and can be set using the GUI panel for the software defined radio.  In a typical radiometer, we often do not have any control of the bandwidth.  It is often set by the mechanical bandwidth filters that are placed in front of the LNAs and the detection circuit to detect the noise power.  In a software defined radio radio we do have more control on bandwidth as we can change our sampling rate which in turns controls our bandwidth.  However, there is a limit as larger sampling rates require more data and processing bandwidth to process.  \n",
    "\n",
    "In addtion, recall from Exp 4 where we filtered out an offending signal.  While this allows us to filter out the offending signal and resume total power measurements, it comes at a cost of reducing the overall bandwidth available for power detection.  In Experiment 4 we looked at this and derived the following equation\n",
    "\n",
    "(2)  $$NE\\Delta T=\\frac{T_{A}+T_{sys}}{\\sqrt{(\\beta - \\beta_{filter})  \\tau}}$$\n",
    "\n",
    "This equation now takes into account the substraction of the filter.  The width of the band reject filter used then affects our $NE\\Delta T$ and thus our performace of the radiometer.  \n",
    "\n"
   ]
  },
  {
   "cell_type": "markdown",
   "metadata": {},
   "source": [
    "Let's look at an example of this.  To begin with we will assume that our $T_{A}$ and $T_{sys}$ are fixed, let's assign them a value of 450 kelvin.  We will also set our integration time to a fixed value as well, in this case we will set it to 2 seconds.  We will start with a bandwdith of 10 MHz.  In Python we can assign these values now, we will also setup our environment."
   ]
  },
  {
   "cell_type": "code",
   "execution_count": 1,
   "metadata": {
    "collapsed": false
   },
   "outputs": [
    {
     "name": "stdout",
     "output_type": "stream",
     "text": [
      "Populating the interactive namespace from numpy and matplotlib\n"
     ]
    }
   ],
   "source": [
    "%pylab inline\n",
    "import scipy\n",
    "import numpy\n",
    "import scipy.io as sio"
   ]
  },
  {
   "cell_type": "code",
   "execution_count": 2,
   "metadata": {
    "collapsed": true
   },
   "outputs": [],
   "source": [
    "tau = 2\n",
    "BSDR = 10e6\n",
    "Tsys = 450"
   ]
  },
  {
   "cell_type": "markdown",
   "metadata": {},
   "source": [
    "Ok, let's calculate what our $NE\\Delta T$ is with these values."
   ]
  },
  {
   "cell_type": "code",
   "execution_count": 3,
   "metadata": {
    "collapsed": false
   },
   "outputs": [
    {
     "name": "stdout",
     "output_type": "stream",
     "text": [
      "0.100623058987\n"
     ]
    }
   ],
   "source": [
    "NEAT = Tsys/sqrt((BSDR)*tau)\n",
    "print NEAT"
   ]
  },
  {
   "cell_type": "markdown",
   "metadata": {},
   "source": [
    "Now let's add a filter.  This filter shall have a bandwidth of 500 kHz that it is notching out.  We will now use equation (2) and subtract this filter from our overall bandwidth since our band-reject filter is not only removing the offending signal but also any other noise power information with it."
   ]
  },
  {
   "cell_type": "code",
   "execution_count": 4,
   "metadata": {
    "collapsed": false
   },
   "outputs": [
    {
     "name": "stdout",
     "output_type": "stream",
     "text": [
      "0.103237080242\n"
     ]
    }
   ],
   "source": [
    "BFILTER = 500e3\n",
    "NEAT_FILTER = Tsys/sqrt((BSDR-BFILTER)*tau)\n",
    "print NEAT_FILTER"
   ]
  },
  {
   "cell_type": "markdown",
   "metadata": {},
   "source": [
    "As expected our $NE\\Delta T$ has gone up.  This means that we are not able to detect as small of a change as we did before.  If we continue to increase the bandwidth of our band-reject filter we will see it continue to go up."
   ]
  },
  {
   "cell_type": "code",
   "execution_count": 5,
   "metadata": {
    "collapsed": false
   },
   "outputs": [
    {
     "name": "stdout",
     "output_type": "stream",
     "text": [
      "0.106066017178\n"
     ]
    }
   ],
   "source": [
    "BFILTER = 1e6\n",
    "NEAT_FILTER = Tsys/sqrt((BSDR-BFILTER)*tau)\n",
    "print NEAT_FILTER"
   ]
  },
  {
   "cell_type": "code",
   "execution_count": 6,
   "metadata": {
    "collapsed": false
   },
   "outputs": [
    {
     "name": "stdout",
     "output_type": "stream",
     "text": [
      "0.142302494708\n"
     ]
    }
   ],
   "source": [
    "BFILTER = 5e6\n",
    "NEAT_FILTER = Tsys/sqrt((BSDR-BFILTER)*tau)\n",
    "print NEAT_FILTER"
   ]
  },
  {
   "cell_type": "markdown",
   "metadata": {},
   "source": [
    "Let's graph this response.  We will have various filter bandwidths from 1 kHz all the way to 9.99 MHz.  If we set the bandwidth to 10 MHz, then we are taking the square root of zero which is zero and this creates a divide by zero."
   ]
  },
  {
   "cell_type": "code",
   "execution_count": 7,
   "metadata": {
    "collapsed": false
   },
   "outputs": [
    {
     "data": {
      "image/png": "[encoded data removed]",
      "text/plain": [
       "<matplotlib.figure.Figure at 0x10f051790>"
      ]
     },
     "metadata": {},
     "output_type": "display_data"
    }
   ],
   "source": [
    "bfilt = numpy.linspace(1e3,9.999e6,10e3)\n",
    "NEAT_FILTER = Tsys/sqrt((BSDR-bfilt)*tau)\n",
    "matplotlib.rcParams.update({'font.size': 18, 'text.usetex': True})\n",
    "#xfmt = plt.matplotlib.ticker.ScalarFormatter(useOffset=True)\n",
    "#xfmt.set_powerlimits((-5,5))\n",
    "fig = plt.figure(figsize=(14,6), dpi=300)\n",
    "plot(bfilt,NEAT_FILTER)\n",
    "xlabel('Filter Bandwidth (MHz)')\n",
    "ylabel('$NE\\Delta T$ (K)')\n",
    "title('$NE\\Delta T$ vs bandwidth filter size')\n",
    "axis([0, 10.5e6, 0, 10])\n",
    "def fmt_mhz(val,pos=None):\n",
    "    return '%g' % (val / 1e6)\n",
    "gca().xaxis.set_major_formatter(FuncFormatter(fmt_mhz))\n",
    "#plt.ticklabel_format(style='sci', axis='x', useOffset=True, scilimits=(-5,5))\n",
    "grid(True)"
   ]
  },
  {
   "cell_type": "markdown",
   "metadata": {},
   "source": [
    "As expected this is an expotential increase.  We now want to look at what really happens with a radiometer and more specifically with a software defined radio radiometer.  If we assume that our noise source is constant then we can look at the total power values."
   ]
  }
 ],
 "metadata": {
  "kernelspec": {
   "display_name": "Python 2",
   "language": "python",
   "name": "python2"
  },
  "language_info": {
   "codemirror_mode": {
    "name": "ipython",
    "version": 2
   },
   "file_extension": ".py",
   "mimetype": "text/x-python",
   "name": "python",
   "nbconvert_exporter": "python",
   "pygments_lexer": "ipython2",
   "version": "2.7.9"
  }
 },
 "nbformat": 4,
 "nbformat_minor": 0
}
