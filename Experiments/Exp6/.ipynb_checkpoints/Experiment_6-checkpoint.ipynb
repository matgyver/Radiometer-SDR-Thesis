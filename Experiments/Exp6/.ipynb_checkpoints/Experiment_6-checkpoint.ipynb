{
 "cells": [
  {
   "cell_type": "markdown",
   "metadata": {},
   "source": [
    "# Notes on Filtering and Square-law detector\n",
    "\n",
    "This notebook has a few examples and generates some graphs used in the thesis in Chapter 4"
   ]
  },
  {
   "cell_type": "code",
   "execution_count": null,
   "metadata": {
    "collapsed": false
   },
   "outputs": [],
   "source": [
    "%pylab inline"
   ]
  },
  {
   "cell_type": "code",
   "execution_count": null,
   "metadata": {
    "collapsed": true
   },
   "outputs": [],
   "source": [
    "import scipy\n",
    "import numpy as np\n",
    "import scipy.io as sio\n",
    "import matplotlib.image as mpimg\n",
    "from scipy import signal\n",
    "import savitzky_golay"
   ]
  },
  {
   "cell_type": "markdown",
   "metadata": {},
   "source": [
    "##Square-law detector\n",
    "A square-law detector can look at a noisy signal with a mean value of zero, and read the peak values to get a total power of that signal.  Here we will generate a noisy signal (white noise) signal and then look at the peak values and trace them.  Then we will build a square-law detector which is x^2 to detect the total power and filter it with a low pass filter to smooth the signal out.  Finally we will compare the various graphs created."
   ]
  },
  {
   "cell_type": "markdown",
   "metadata": {},
   "source": [
    "Let's begin by defining some useful functions\n",
    "# Defines"
   ]
  },
  {
   "cell_type": "code",
   "execution_count": null,
   "metadata": {
    "collapsed": true
   },
   "outputs": [],
   "source": [
    "#IIR Single Pole Filter\n",
    "def iirsp(a0,b1,x):\n",
    "    y = np.empty(len(x))\n",
    "    #y[n] = a0*input+b1*y[n-1]\n",
    "    for i in range(2,len(x)):\n",
    "        y[i]=a0*x[i]+b1*y[i-1]\n",
    "    return y\n",
    "\n",
    "\n",
    "#Plot step and impulse response\n",
    "def impz(b,a=1):\n",
    "    l = len(b)\n",
    "    impulse = repeat(0.,l); impulse[0] =1.\n",
    "    x = arange(0,l)\n",
    "    response = lfilter(b,a,impulse1)\n",
    "    #subplot(2,2,1)\n",
    "    #plt.plot(impulse)\n",
    "    #axis([-.5, 65, -.5, 1.1])\n",
    "    subplot(2,2,1)\n",
    "    stem(x, response,markerfmt='bs')\n",
    "    ylabel('Amplitude')\n",
    "    xlabel(r'n (samples)')\n",
    "    title(r'Discrete Impulse response')\n",
    "    #axis([-.5, 65, -.5, 1.1])\n",
    "    subplot(2,2,2)\n",
    "    plt.plot(x, response,'b-')\n",
    "    ylabel('Amplitude')\n",
    "    xlabel(r'Time')\n",
    "    title(r'Analog Impulse response')\n",
    "    subplot(2,2,3)\n",
    "    step = cumsum(response)\n",
    "    stem(x, step,markerfmt='bs')\n",
    "    ylabel('Amplitude')\n",
    "    xlabel(r'n (samples)')\n",
    "    title(r'Discrete Step response')\n",
    "    subplot(2,2,4)\n",
    "    step = cumsum(response)\n",
    "    plt.plot(x, step,'b-')\n",
    "    ylabel('Amplitude')\n",
    "    xlabel(r'Time')\n",
    "    title(r'Analog Step response')\n",
    "    #subplots_adjust(hspace=0.5)"
   ]
  },
  {
   "cell_type": "markdown",
   "metadata": {},
   "source": [
    "# Generate Noisy Signal"
   ]
  },
  {
   "cell_type": "code",
   "execution_count": null,
   "metadata": {
    "collapsed": false
   },
   "outputs": [],
   "source": [
    "#Generate a noisy signal\n",
    "NOISE_AMPLITUDE = 4.0\n",
    "PERIOD = 200\n",
    "PRESENCE_PROBABILITY = .4\n",
    "# size of sample\n",
    "S_O_S = 4000\n",
    "\n",
    "signal = np.where(np.arange(4000) % PERIOD > PERIOD / 2, 0.5, -0.5)\n",
    "noise = np.random.uniform(\n",
    "    low=-0.5*NOISE_AMPLITUDE, \n",
    "    high=0.5*NOISE_AMPLITUDE, \n",
    "    size=S_O_S\n",
    ")\n",
    "\n",
    "#The noisy signal with a higher amplitude\n",
    "noise = np.where(\n",
    "    np.random.uniform(size=len(noise)) < PRESENCE_PROBABILITY, \n",
    "    signal, noise\n",
    ")\n",
    "#The noisy signal with a lower amplitude\n",
    "noise1 = np.random.uniform(\n",
    "    low=-0.25*NOISE_AMPLITUDE, \n",
    "    high=0.25*NOISE_AMPLITUDE, \n",
    "    size=S_O_S\n",
    ")\n",
    "\n",
    "#Now we combine the two signals \n",
    "noisy1 = np.append(noise,noise1);\n",
    "noisy = np.append(noisy1,noise);\n",
    "\n",
    "matplotlib.rcParams.update({'font.size': 18, 'text.usetex': True})\n",
    "\n",
    "\n",
    "fig = plt.figure(figsize=(14,6), dpi=300)\n",
    "plt.plot( noisy,'b-', label=\"signal mixed in random noise\")\n",
    "\n",
    "xlabel('Samples')\n",
    "ylabel('Amplitude')\n",
    "title('Noisy Signal')\n",
    "axis([0, 12000, -3, 3])\n",
    "grid(True)\n",
    "\n",
    "fig.savefig(\"noisy_sig.pdf\", dpi=300)\n",
    "fig.savefig(\"noisy_sig.png\", dpi=300)"
   ]
  },
  {
   "cell_type": "markdown",
   "metadata": {},
   "source": [
    "#Peak Detection"
   ]
  },
  {
   "cell_type": "markdown",
   "metadata": {},
   "source": [
    "Now we let's draw a line on where the peak values should be.  Since we defined this in the noise generator we expect the absolute value of the peaks at 2 from 0 to 4000 samples, 1 for 4000 to 8000 samples and back to 2 from 8000 to 12000 samples.  "
   ]
  },
  {
   "cell_type": "code",
   "execution_count": null,
   "metadata": {
    "collapsed": false
   },
   "outputs": [],
   "source": [
    "matplotlib.rcParams.update({'font.size': 18, 'text.usetex': True})\n",
    "\n",
    "\n",
    "fig = plt.figure(figsize=(14,6), dpi=300)\n",
    "plt.plot( noisy,'b-', label=\"signal mixed in random noise\")\n",
    "plt.plot([0, 4000], [2, 2], color='red', linestyle='-', linewidth=2)\n",
    "plt.plot([4000, 4000], [2, 1], color='red', linestyle='-', linewidth=2)\n",
    "plt.plot([4000, 8000], [1, 1], color='red', linestyle='-', linewidth=2)\n",
    "plt.plot([8000, 8000], [1, 2], color='red', linestyle='-', linewidth=2)\n",
    "plt.plot([8000, 12000], [2, 2], color='red', linestyle='-', linewidth=2)\n",
    "\n",
    "xlabel('Samples')\n",
    "ylabel('Amplitude')\n",
    "title('Noisy Signal')\n",
    "axis([0, 12000, -3, 3])\n",
    "grid(True)\n",
    "\n",
    "fig.savefig(\"noisy_sig_line.pdf\", dpi=300)\n",
    "fig.savefig(\"noisy_sig_line.png\", dpi=300)"
   ]
  },
  {
   "cell_type": "markdown",
   "metadata": {},
   "source": [
    "Now we will implement the square law detector and filter this using a low pass filter.  Let's begin by building the low pass filter and looking at the response of that filter."
   ]
  },
  {
   "cell_type": "code",
   "execution_count": null,
   "metadata": {
    "collapsed": false
   },
   "outputs": [],
   "source": [
    "fig = plt.figure(figsize=(14,6), dpi=300)\n",
    "\n",
    "from scipy.signal import kaiserord, lfilter, firwin, freqz\n",
    "\n",
    "#First define our filter parameters\n",
    "cutoff = 10.0\n",
    "fs = 4000\n",
    "nsamples = 12000\n",
    "#t = arange(nsamples) / fs\n",
    "\n",
    "nyq_rate = fs / 2.0\n",
    "# The desired width of the transition from pass to stop,\n",
    "# relative to the Nyquist rate.  We'll design the filter\n",
    "# with a 5 Hz transition width.\n",
    "width = 5.0/nyq_rate \n",
    "\n",
    "# The desired attenuation in the stop band, in dB.\n",
    "ripple_db = 60.0\n",
    " \n",
    "# Compute the order and Kaiser parameter for the FIR filter.\n",
    "N, beta = kaiserord(ripple_db, width)\n",
    "\n",
    "# Use firwin with a Kaiser window to create a lowpass FIR filter.\n",
    "taps = firwin(N, cutoff/nyq_rate, window=('kaiser', beta))\n",
    "#b,a = signal.iirfilter(5,.3,btype='lowpass',ftype='butter')\n",
    "\n",
    "# The phase delay of the filtered signal.\n",
    "delay = (0.5 * (N-1) / fs)*fs\n",
    "print delay\n",
    "#b, a = signal.butter(4, 100, 'low', analog=True)\n",
    "#Plot the frequency response\n",
    "w, h = freqz(taps, worN=8000)\n",
    "plot((w/pi)*nyq_rate, absolute(h), linewidth=2)\n",
    "xlabel('Frequency (Hz)')\n",
    "ylabel('Gain')\n",
    "title('Frequency Response')\n",
    "ylim(-0.05, 1.05)\n",
    "xlim(0,40)\n",
    "grid(True)\n"
   ]
  },
  {
   "cell_type": "markdown",
   "metadata": {},
   "source": [
    "Now we use our square-law detector and apply the filter we created above to filter the signal.  Then graph this on our original signal."
   ]
  },
  {
   "cell_type": "code",
   "execution_count": null,
   "metadata": {
    "collapsed": false
   },
   "outputs": [],
   "source": [
    "fig = plt.figure(figsize=(14,7), dpi=300)\n",
    "\n",
    "#Simulating a square-law detector (X^2)\n",
    "square = noisy**2\n",
    "\n",
    "t = np.linspace(0,12000,12000)\n",
    "\n",
    "# Plot the original signal.\n",
    "plt.plot(t,noisy,label='Noisy Signal')\n",
    "#plt.plot(t,square,'g-',linewidth=2)\n",
    "\n",
    "# Plot the filtered signal, shifted to compensate for the phase delay.\n",
    "#plt.plot(t,filtered_x, 'g-',label='Filtered X^2 signal',linewidth=4)\n",
    "plt.plot(t,square,'r-',label='$X^2$',linewidth=3)\n",
    "\n",
    "xlabel('Sample')\n",
    "ylabel('Amplitude')\n",
    "title('Noisy Signal with total power detection')\n",
    "axis([-50, 12000, -3, 4.5])\n",
    "grid(True)\n",
    "plt.legend(loc='upper right')\n",
    "fig.savefig(\"TPR.pdf\", dpi=300)\n",
    "fig.savefig(\"TPR.png\", dpi=300)"
   ]
  },
  {
   "cell_type": "code",
   "execution_count": null,
   "metadata": {
    "collapsed": false
   },
   "outputs": [],
   "source": [
    "fig = plt.figure(figsize=(14,7), dpi=300)\n",
    "\n",
    "#We will use a single pole IIR filter to LPF this data\n",
    "#squarefilt = iirsp(.632,.368,square)\n",
    "squarefilt = (iirsp(.032,.991,square))*1.1\n",
    "\n",
    "# Use lfilter to filter x with the FIR filter.\n",
    "#filtered_x = lfilter(taps, .25, square)\n",
    "#plt.plot(t,noisy,label='Noisy Signal')\n",
    "plt.plot(t,square,'b-',label='Unfiltered $X^2$',linewidth=1)\n",
    "# Plot the filtered signal, shifted to compensate for the phase delay.\n",
    "#plt.plot(t,filtered_x, 'b-',label='Filtered X^2 signal',linewidth=4)\n",
    "plt.plot(t,squarefilt,'r-',label='$X^2$ Filtered',linewidth=2)\n",
    "\n",
    "xlabel('Sample')\n",
    "ylabel('Amplitude')\n",
    "title('Unfiltered and filtered total power measurements')\n",
    "axis([-50, 12000, -1, 4.5])\n",
    "grid(True)\n",
    "plt.legend(loc='lower right')\n",
    "fig.savefig(\"TPR_filter.pdf\", dpi=300)\n",
    "fig.savefig(\"TPR_filter.png\", dpi=300)"
   ]
  },
  {
   "cell_type": "code",
   "execution_count": null,
   "metadata": {
    "collapsed": false
   },
   "outputs": [],
   "source": [
    "fig = plt.figure(figsize=(14,9), dpi=300)\n",
    "plt.plot(t,squarefilt,'r-',label='$X^2$ Filter delay compensated',linewidth=3)\n",
    "#plt.plot(t,noisy,label='Noisy Signal')\n",
    "axis([-50, 12000, -3, 4.3])\n",
    "grid(True)\n",
    "fig.savefig(\"TPR_out.pdf\", dpi=300)\n",
    "fig.savefig(\"TPR_out.png\", dpi=300)"
   ]
  },
  {
   "cell_type": "markdown",
   "metadata": {
    "collapsed": true
   },
   "source": [
    "##Impulse response\n",
    "Let's now take a look at a filter response for a recursive filter IIR filter and look at both the analog and digital comparasions.  "
   ]
  },
  {
   "cell_type": "markdown",
   "metadata": {},
   "source": [
    "We begin by generating the impulse function."
   ]
  },
  {
   "cell_type": "code",
   "execution_count": null,
   "metadata": {
    "collapsed": false
   },
   "outputs": [],
   "source": [
    "fig = plt.figure(figsize=(14,9), dpi=300)\n",
    "\n",
    "x1 = np.zeros(10,dtype=np.int)\n",
    "x2 = np.ones(81,dtype=np.int)\n",
    "impulse1 = np.append(x1,x2);\n",
    "#print impulse\n",
    "plt.subplot(2, 1, 1)\n",
    "plt.plot(impulse1,'bs')\n",
    "xlabel('Sample')\n",
    "ylabel('Amplitude')\n",
    "title('Impulse Signal Analog (bottom)')\n",
    "axis([-.5, 91, -.1, 1.2])\n",
    "grid(True)\n",
    "plt.subplot(2, 1, 2)\n",
    "plt.plot(impulse1,'b-')\n",
    "xlabel('Time')\n",
    "ylabel('Amplitude')\n",
    "axis([-.5, 91, -.1, 1.2])\n",
    "grid(True)\n",
    "fig.savefig(\"impulse.pdf\", dpi=300)\n",
    "fig.savefig(\"impulse.png\", dpi=300)"
   ]
  },
  {
   "cell_type": "code",
   "execution_count": null,
   "metadata": {
    "collapsed": false
   },
   "outputs": [],
   "source": [
    "fig = plt.figure(figsize=(15,17), dpi=300)\n",
    "\n",
    "#Coefficients for a single pole IIR LPF\n",
    "#a0 = .15\n",
    "#b1 = .85\n",
    "\n",
    "res = iirsp(.15,.85,impulse1)\n",
    "   \n",
    "subplot(211)\n",
    "stem(res)\n",
    "ylabel('Amplitude')\n",
    "xlabel(r'n (samples)')\n",
    "title(r'Impulse response')\n",
    "axis([0, 91, -.1, 1.2])\n",
    "subplot(212)\n",
    "plt.plot(res)\n",
    "ylabel('Amplitude')\n",
    "xlabel(r'Time')\n",
    "title(r'Step response')\n",
    "axis([0, 91, -.1, 1.2])\n",
    "\n",
    "fig.savefig(\"response.pdf\", dpi=300)\n",
    "fig.savefig(\"response.png\", dpi=300)"
   ]
  },
  {
   "cell_type": "code",
   "execution_count": null,
   "metadata": {
    "collapsed": false
   },
   "outputs": [],
   "source": [
    "fig = plt.figure(figsize=(15,17), dpi=300)\n",
    "\n",
    "plt.subplot(2, 1, 1)\n",
    "plt.plot(impulse1,'b-')\n",
    "xlabel('Time')\n",
    "ylabel('Amplitude')\n",
    "title(r'RC Impulse Response')\n",
    "axis([-.1, 91, -.1, 1.2])\n",
    "grid(True)\n",
    "subplot(212)\n",
    "plt.plot(res)\n",
    "ylabel('Amplitude')\n",
    "xlabel(r'Time')\n",
    "title(r'RC Step Response')\n",
    "grid(True)\n",
    "#title(r'Step response')\n",
    "axis([0, 91, -.1, 1.2])\n",
    "\n",
    "fig.savefig(\"rc_response.pdf\", dpi=300)\n",
    "fig.savefig(\"rc_response.png\", dpi=300)"
   ]
  },
  {
   "cell_type": "code",
   "execution_count": null,
   "metadata": {
    "collapsed": false
   },
   "outputs": [],
   "source": [
    "fig = plt.figure(figsize=(15,17), dpi=300)\n",
    "\n",
    "plt.subplot(2, 1, 1)\n",
    "stem(impulse1)\n",
    "xlabel('n (samples)')\n",
    "ylabel('Amplitude')\n",
    "title('Discrete Impulse Response')\n",
    "axis([-.1, 91, -.1, 1.2])\n",
    "grid(True)\n",
    "subplot(212)\n",
    "stem(res)\n",
    "ylabel('Amplitude')\n",
    "xlabel(r'n (samples)')\n",
    "title(r'Impulse response')\n",
    "axis([0, 91, -.1, 1.2])\n",
    "\n",
    "fig.savefig(\"iir_response.pdf\", dpi=300)\n",
    "fig.savefig(\"iir_response.png\", dpi=300)"
   ]
  },
  {
   "cell_type": "code",
   "execution_count": null,
   "metadata": {
    "collapsed": false
   },
   "outputs": [],
   "source": [
    "fig = plt.figure(figsize=(15,17), dpi=300)\n",
    "\n",
    "plt.subplot(2, 2, 1)\n",
    "plt.plot(impulse1,'b-')\n",
    "xlabel('Time')\n",
    "ylabel('Amplitude')\n",
    "title(r'RC Impulse Response')\n",
    "axis([-.1, 91, -.1, 1.2])\n",
    "grid(True)\n",
    "subplot(222)\n",
    "plt.plot(res)\n",
    "ylabel('Amplitude')\n",
    "xlabel(r'Time')\n",
    "title(r'RC Step Response')\n",
    "grid(True)\n",
    "#title(r'Step response')\n",
    "axis([0, 91, -.1, 1.2])\n",
    "\n",
    "plt.subplot(2, 2, 3)\n",
    "stem(impulse1)\n",
    "xlabel('n (samples)')\n",
    "ylabel('Amplitude')\n",
    "title('Discrete Impulse Response')\n",
    "axis([-.1, 91, -.1, 1.2])\n",
    "grid(True)\n",
    "subplot(224)\n",
    "stem(res)\n",
    "ylabel('Amplitude')\n",
    "xlabel(r'n (samples)')\n",
    "title(r'Impulse response')\n",
    "axis([0, 91, -.1, 1.2])\n",
    "\n",
    "fig.savefig(\"all_four.pdf\", dpi=300)\n",
    "fig.savefig(\"all_four.png\", dpi=300)"
   ]
  },
  {
   "cell_type": "code",
   "execution_count": null,
   "metadata": {
    "collapsed": true
   },
   "outputs": [],
   "source": []
  }
 ],
 "metadata": {
  "kernelspec": {
   "display_name": "Python 2",
   "language": "python",
   "name": "python2"
  },
  "language_info": {
   "codemirror_mode": {
    "name": "ipython",
    "version": 2
   },
   "file_extension": ".py",
   "mimetype": "text/x-python",
   "name": "python",
   "nbconvert_exporter": "python",
   "pygments_lexer": "ipython2",
   "version": "2.7.9"
  }
 },
 "nbformat": 4,
 "nbformat_minor": 0
}
