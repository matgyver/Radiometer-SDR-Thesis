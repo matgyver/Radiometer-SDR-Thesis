{
 "cells": [
  {
   "cell_type": "markdown",
   "metadata": {
    "slideshow": {
     "slide_type": "slide"
    }
   },
   "source": [
    "\n",
    "#Experimental Radiometer Notebook\n",
    "\n",
    "##Matthew E. Nelson\n",
    "\n",
    "The following is experimental data collected and analyzed for work towards my Master's thesis in Computer Engineering at Iowa State University.  "
   ]
  },
  {
   "cell_type": "markdown",
   "metadata": {
    "slideshow": {
     "slide_type": "slide"
    }
   },
   "source": [
    "#Experiment 1\n",
    "\n",
    "Experiment 1 was designed to show normal operation of a software defined radio as a radiometer.  It shows how both the software defined radio works and the square-law detector that was used to validate the information collected.  It also shows calibration of the data to a noise temperature which is typical for most radiometer applications.  Finally an example of using this in a real world application, soil moisture, is also shown."
   ]
  },
  {
   "cell_type": "markdown",
   "metadata": {
    "slideshow": {
     "slide_type": "subslide"
    }
   },
   "source": [
    "Link to [Experiment 1](exp1/radiometer_experiment_1.ipynb)"
   ]
  },
  {
   "cell_type": "code",
   "execution_count": null,
   "metadata": {
    "collapsed": true
   },
   "outputs": [],
   "source": []
  }
 ],
 "metadata": {
  "celltoolbar": "Slideshow",
  "kernelspec": {
   "display_name": "Python 2",
   "language": "python",
   "name": "python2"
  },
  "language_info": {
   "codemirror_mode": {
    "name": "ipython",
    "version": 2
   },
   "file_extension": ".py",
   "mimetype": "text/x-python",
   "name": "python",
   "nbconvert_exporter": "python",
   "pygments_lexer": "ipython2",
   "version": "2.7.9"
  }
 },
 "nbformat": 4,
 "nbformat_minor": 0
}
