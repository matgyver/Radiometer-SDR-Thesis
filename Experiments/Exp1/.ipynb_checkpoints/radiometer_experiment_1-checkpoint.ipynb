{
 "cells": [
  {
   "cell_type": "markdown",
   "metadata": {
    "slideshow": {
     "slide_type": "slide"
    }
   },
   "source": [
    "#Radiometer Experiment 1 - Calibration and normal radiometer operation"
   ]
  },
  {
   "cell_type": "markdown",
   "metadata": {
    "slideshow": {
     "slide_type": "slide"
    }
   },
   "source": [
    "## Experimental setup\n",
    "\n",
    "<img src=\"https://lh5.googleusercontent.com/-MQnV1zYcQWA/VKmzjJYKqYI/AAAAAAAB84E/1qX4x5rKVAQ/w977-h733-no/20150104_154121.jpg\" alt=\"LabSetup\" style=\"width: 400px;\"/>\n",
    "\n",
    "Experiment 1 is used to help us establish that we can look at different physical temperatures that are calibrated to the radiometer.  For this experiment we use both the Software Defined Radio running GNURadio with the radiometer firmware and a square-law detector that is connected to a data aquisition unit.  The experiment uses a 50 ohm matched load that is attached to the radiometer.  This matched load is then submerged into three different baths, a Liquid Nitrogen at ~ 77 K, Ice bath at ~ 273.15 K and hot water water at 341.15 K.   It is also used to verify that the software defined radio does in fact behave in the same manor as the square-law detector and to verify it's operation as a total power radiometer in comparison to a more traditional radiometer which uses a square-law detector."
   ]
  },
  {
   "cell_type": "markdown",
   "metadata": {
    "slideshow": {
     "slide_type": "slide"
    }
   },
   "source": [
    "##Software Defined Radio Setup\n",
    "The Software Defined Radio uses a N200 SDR from Ettus Research with GNURadio running a custom code for performing as a radiometer.  This program includes a GUI that allows for us to monitor the radiometer as well as control many of the properties of the radiometer such as frequency, bandwidth and integration time.  \n",
    "<img src=\"https://lh6.googleusercontent.com/-8X3Tm3wyh-k/U-mZk_99UcI/AAAAAAAB5Vk/-Up_76efr7E/w1214-h759-no/Lab_0_Spectrum.png\" alt=\"SDR\" width=100%>"
   ]
  },
  {
   "cell_type": "markdown",
   "metadata": {
    "slideshow": {
     "slide_type": "subslide"
    }
   },
   "source": [
    "The program stores the total power data as a binary format which we can then load into a program such as Matlab or Python.  While we can also store the raw I/Q values as well, this results in data files that can be easily 20-40 GB in size for typical 10-15 minute experimental run.  The total power binary files are much smaller (usually less than 200 kB) and make it much easier to use."
   ]
  },
  {
   "cell_type": "markdown",
   "metadata": {
    "slideshow": {
     "slide_type": "subslide"
    }
   },
   "source": [
    "The following table shows the configuration of the software defined radio and square-law detector.  This information is important as it let's us know the frequency, bandwidth and integration time.  We can use this information to calculate what the $NE\\Delta T$ should be.\n",
    "\n",
    "|Device  |Frequency  |Bandwidth  |Integration time\n",
    "|--------|-----------------------\n",
    "|N200    | 1406 MHz    |10 MHz or Msps| 2 seconds\n",
    "|$X^2$   | NA    |25 MHz  | NA"
   ]
  },
  {
   "cell_type": "markdown",
   "metadata": {
    "slideshow": {
     "slide_type": "subslide"
    }
   },
   "source": [
    "The square-law detector does not have a frequency since it does not have a local mixer or demodulator.  It also does not have an integrator as well.  However, as we will soon see we do integrate the square-law data by running it through a low pass filter.  The bandwidth of the square-law detector is controlled by the bandpass filters that we are using on the RF front end.  For the SDR, we can control both frequency and bandwidth and in software we do have an integrator.  While the SDR can go as high as 25 MHz or 25 Msps, the current computer we are using was not able to keep up with that bandwidth.  Overflow errors would begin shortly after the experiment began which means that we are losing information.  Therefore we kept the SDR at 10 MHz.  As we will see soon, this does mean that technically the square-law detector does have a better $NE\\Delta T$ compared to the SDR due the fact that it sees the full 25 MHz bandwidth."
   ]
  },
  {
   "cell_type": "markdown",
   "metadata": {
    "slideshow": {
     "slide_type": "slide"
    }
   },
   "source": [
    "## Square-law detector\n",
    "The square-law detector is connected to a NI-USB6000 DAQ system.  This records the analog voltage sent from the square-law detector.  A LabView program then receives this data and stores the data in a ASCII CSV file.  \n",
    "\n",
    "<img src=\"https://lh5.googleusercontent.com/-sLn6266TiCs/U-mZpQ2LFfI/AAAAAAAB5Vs/eV8G_uUIQeU/w1402-h759-no/labviewx2_lab0.png\" alt=\"X2\" width=100%>"
   ]
  },
  {
   "cell_type": "markdown",
   "metadata": {
    "slideshow": {
     "slide_type": "subslide"
    }
   },
   "source": [
    "The Labview program allows us to to record and monitor the data the square-law detector is receiving.  Unlike the SDR though, there is no other parameters that we can control.  The square-law detector is at the mercy of the RF front end that we are using.\n",
    "- - -"
   ]
  },
  {
   "cell_type": "markdown",
   "metadata": {
    "slideshow": {
     "slide_type": "slide"
    }
   },
   "source": [
    "#Analysis using Python\n",
    "Let's begin our analysis.  We will use Python to load the data files, parse them, analyse the data and graph the data.  All of this will take place within this iPython notebook.  "
   ]
  },
  {
   "cell_type": "markdown",
   "metadata": {
    "slideshow": {
     "slide_type": "slide"
    }
   },
   "source": [
    "We begin with setting up our environment and importing required libraries.  Scipy allows us to read in the binary data files that GNURadio uses.  Numpy gives us access to a number of useful tools including graphing.  The csv module allows us to read in and parse comma seperated files.  These files are the calibration file and the square-law data is also stored as a CSV file.\n",
    "\n",
    "Finally we have a module that allows us to colorize the plots based on various parameters.  "
   ]
  },
  {
   "cell_type": "markdown",
   "metadata": {
    "slideshow": {
     "slide_type": "slide"
    }
   },
   "source": [
    "For the slideshow, we will skip most of the Python code used, however we will highlight certain key code segments."
   ]
  },
  {
   "cell_type": "code",
   "execution_count": null,
   "metadata": {
    "collapsed": false,
    "slideshow": {
     "slide_type": "skip"
    }
   },
   "outputs": [],
   "source": [
    "%pylab inline"
   ]
  },
  {
   "cell_type": "code",
   "execution_count": null,
   "metadata": {
    "collapsed": false,
    "slideshow": {
     "slide_type": "skip"
    }
   },
   "outputs": [],
   "source": [
    "import scipy\n",
    "import numpy\n",
    "import scipy.io as sio\n",
    "import csv\n",
    "import matplotlib.image as mpimg\n",
    "\n",
    "import colorline\n",
    "colorline = colorline.colorline\n",
    "\n",
    "from scipy.interpolate import interp1d"
   ]
  },
  {
   "cell_type": "markdown",
   "metadata": {
    "slideshow": {
     "slide_type": "slide"
    }
   },
   "source": [
    "Before we begin, let's look at what we expect our performance to be.  This is our $NE\\Delta T$ equation and the equations is below.\n",
    "\n",
    "(1)  $$NE\\Delta T=\\frac{T_{A}+T_{sys}}{\\sqrt{\\beta  \\tau}}$$\n",
    "\n",
    "We will assume that our $T_{sys}$ is 385 Kelvin, which is based on information provided by the University of Michigan for the RF front we are using that they constructed. $T_{A}$ is our antenna temperature but we are not using an antenna for these experiments.  Instead our $T_{A}$ will be the same temperature that our matched is which will be based on the physical temperature of the matched load.  $\\beta$ is our bandwidth, which for the SDR is 10 MHz and for the square-law is 25 MHz.  Finally $\\tau$ is our integration time, which we will use 2 seconds.  Let's plug these in and calculate for each device."
   ]
  },
  {
   "cell_type": "code",
   "execution_count": null,
   "metadata": {
    "collapsed": true,
    "slideshow": {
     "slide_type": "slide"
    }
   },
   "outputs": [],
   "source": [
    "tau = 2 #Integration Time\n",
    "BSDR = 10e6 # Bandwidth of the SDR\n",
    "BX2 = 25e6 # Bandwidth of the x2\n",
    "Tsys = 385 # The Analog RF Tsys from UofM\n",
    "TA = 77 # Antenna temperature or in our case matched load physical temp"
   ]
  },
  {
   "cell_type": "code",
   "execution_count": null,
   "metadata": {
    "collapsed": true,
    "slideshow": {
     "slide_type": "skip"
    }
   },
   "outputs": [],
   "source": [
    "NEAT_SDR = (TA + Tsys)/sqrt(BSDR*tau)\n",
    "NEAT_X2 = (TA + Tsys)/sqrt(BX2*tau)"
   ]
  },
  {
   "cell_type": "code",
   "execution_count": null,
   "metadata": {
    "collapsed": false,
    "slideshow": {
     "slide_type": "slide"
    }
   },
   "outputs": [],
   "source": [
    "print NEAT_SDR\n",
    "print NEAT_X2"
   ]
  },
  {
   "cell_type": "markdown",
   "metadata": {
    "slideshow": {
     "slide_type": "slide"
    }
   },
   "source": [
    "Our $NE\\Delta T$ is pretty good.  Ideally we want our $NE\\Delta T$ below 1 Kelvin.  The SDR is currently at .0939 Kelvin and the square-law is .0594 Kelvin.  It should be noted that this equation is simplified.  We do have other factors that while their contribution is small, still adds to our $NE\\Delta T$.  Items such as the mixer and LNA on the SDR, quantization noise from the analog to digital converters in both the SDR and square-law, and some other noise sources not taken into affect will change this.  However this does give us a good approximation and let's us know that the integration time and bandwidth is adequate for our needs."
   ]
  },
  {
   "cell_type": "markdown",
   "metadata": {
    "slideshow": {
     "slide_type": "skip"
    }
   },
   "source": [
    "To make it easier to refer to, we will set the file names to a variable we can use later.  These files are stored in the same folder as this iPython script."
   ]
  },
  {
   "cell_type": "code",
   "execution_count": null,
   "metadata": {
    "collapsed": false,
    "slideshow": {
     "slide_type": "skip"
    }
   },
   "outputs": [],
   "source": [
    "tpr = 'SDR_TPR_EXP1.dat'\n",
    "calib = 'calib.csv'\n",
    "x2_data = 'x2data_EXP1_ASCII.csv'"
   ]
  },
  {
   "cell_type": "markdown",
   "metadata": {
    "slideshow": {
     "slide_type": "slide"
    }
   },
   "source": [
    "The following reads in the binary file produced by GNURadio.  This stores it into an array that Python can work with."
   ]
  },
  {
   "cell_type": "code",
   "execution_count": null,
   "metadata": {
    "collapsed": false,
    "slideshow": {
     "slide_type": "subslide"
    }
   },
   "outputs": [],
   "source": [
    "f = scipy.fromfile(open(tpr),dtype=scipy.float32)"
   ]
  },
  {
   "cell_type": "markdown",
   "metadata": {
    "slideshow": {
     "slide_type": "skip"
    }
   },
   "source": [
    "Because of the valve function in GNURadio, there are zeros that get added to the file, usually at the beginning.  We do not need or want these as it means we did not start recording yet.  This will trim out the zeros and make working with the data easier."
   ]
  },
  {
   "cell_type": "code",
   "execution_count": null,
   "metadata": {
    "collapsed": false,
    "slideshow": {
     "slide_type": "skip"
    }
   },
   "outputs": [],
   "source": [
    "f = numpy.trim_zeros(f)"
   ]
  },
  {
   "cell_type": "markdown",
   "metadata": {
    "slideshow": {
     "slide_type": "skip"
    }
   },
   "source": [
    "Create an index array for plotting.  Also, since we know the interval the data is taken, we can convert this to an actual time.  This now gives us a time scale in our graphs."
   ]
  },
  {
   "cell_type": "code",
   "execution_count": null,
   "metadata": {
    "collapsed": false,
    "slideshow": {
     "slide_type": "skip"
    }
   },
   "outputs": [],
   "source": [
    "timedata = numpy.linspace(0,(len(f)*.49),numpy.size(f))"
   ]
  },
  {
   "cell_type": "markdown",
   "metadata": {
    "slideshow": {
     "slide_type": "slide"
    }
   },
   "source": [
    "## Plot the data\n",
    "Let's begin by plotting the data from the Software defined radio.  The total power readings we get from the software defined radio are technically unitless because they are not calibrated to anything.  However, for convience we will refer to these as rQ values which carry no units.  As stated earlier, we also have a time index that will be in seconds.\n",
    "\n",
    "Since we are interested in using these in my thesis, we will also configure matplotlib to use the $\\LaTeX$ compiler so the graphs will insert nicely into the thesis."
   ]
  },
  {
   "cell_type": "code",
   "execution_count": null,
   "metadata": {
    "collapsed": true,
    "slideshow": {
     "slide_type": "skip"
    }
   },
   "outputs": [],
   "source": [
    "matplotlib.rcParams.update({'font.size': 18, 'text.usetex': True})"
   ]
  },
  {
   "cell_type": "code",
   "execution_count": null,
   "metadata": {
    "collapsed": false,
    "slideshow": {
     "slide_type": "slide"
    }
   },
   "outputs": [],
   "source": [
    "fig = plt.figure(figsize=(14,6), dpi=300)\n",
    "plot(timedata,f)\n",
    "xlabel('Time (sec)')\n",
    "ylabel('Total Power Values (rQ)')\n",
    "title('Total Power (rQ) vs Time')\n",
    "axis([0, 900, .1, .21])\n",
    "grid(True)\n",
    "fig.savefig(\"rqvstime.pdf\", dpi=300)\n",
    "fig.savefig(\"rqvstime.png\", dpi=300)"
   ]
  },
  {
   "cell_type": "markdown",
   "metadata": {
    "slideshow": {
     "slide_type": "slide"
    }
   },
   "source": [
    "Let's talk about this experiment.  Here we have a matched load that starts in an ice water bath and is measured to be approximatly -1.5 C or 271.65 K.  Next we placed the matched load into a LN2 bath.  This reduces the temperature to approximatly 77 K.  Finally we place the load into hot water measured at approximatly 353 K.  Let's highlight each stage below.  "
   ]
  },
  {
   "cell_type": "code",
   "execution_count": null,
   "metadata": {
    "collapsed": false,
    "scrolled": true,
    "slideshow": {
     "slide_type": "subslide"
    }
   },
   "outputs": [],
   "source": [
    "fig = plt.figure(figsize=(14,6), dpi=300)\n",
    "ax = fig.add_subplot(111)\n",
    "plot(timedata,f)\n",
    "xlabel('Time (sec)')\n",
    "ylabel('Total power (rQ) Values')\n",
    "title('Total Power (rQ) vs Time')\n",
    "axis([0, 610, .1, .21])\n",
    "grid(True)\n",
    "ax.annotate('Ice Water', xy=(.20, .7),  xycoords='axes fraction',\n",
    "                xytext=(0.20, 0.85), textcoords='axes fraction',\n",
    "                arrowprops=dict(facecolor='black', shrink=0.05),\n",
    "                horizontalalignment='center', verticalalignment='top',\n",
    "                )\n",
    "ax.annotate('LN2', xy=(.62, .17),  xycoords='axes fraction',\n",
    "                xytext=(0.62, 0.32), textcoords='axes fraction',\n",
    "                arrowprops=dict(facecolor='black', shrink=0.05),\n",
    "                horizontalalignment='center', verticalalignment='top',\n",
    "                )\n",
    "# ax.annotate('Hot Water', xy=(.8, .9),  xycoords='axes fraction',\n",
    "#                xytext=(0.8, 0.75), textcoords='axes fraction',\n",
    "#                arrowprops=dict(facecolor='black', shrink=0.05),\n",
    "#                horizontalalignment='center', verticalalignment='top',\n",
    "#                )\n",
    "fig.savefig(\"rqvstime_annotate.pdf\", dpi=300)\n",
    "fig.savefig(\"rqvstime_annotate.png\", dpi=300)"
   ]
  },
  {
   "cell_type": "markdown",
   "metadata": {
    "slideshow": {
     "slide_type": "skip"
    }
   },
   "source": [
    "For the rest of the experiment we will focus on the transition from ice water to LN2 and back."
   ]
  },
  {
   "cell_type": "markdown",
   "metadata": {
    "slideshow": {
     "slide_type": "slide"
    }
   },
   "source": [
    "## Calibration"
   ]
  },
  {
   "cell_type": "markdown",
   "metadata": {
    "slideshow": {
     "slide_type": "slide"
    }
   },
   "source": [
    "The rQ values are the raw values from the total power radiometer and are uncalibrated.  While the graph shows the change in the total power recorded and shows that the radiometer can detect changes in noise temperature, it has no other meaning than that.  What we want is to show what the total power is in relation to a noise temperature.  Since we have recorded the values of the rQ at fixed and known teperatures, we can create a calibration line and calibrate the radiometer.  For this experiment, we found that the following values matched our two known temperatures.\n",
    "\n",
    "|rQ Value|X^2 Voltage|Temperature\n",
    "|--------|-----------------------\n",
    "|.1139   | 1.9846    |77 K\n",
    "|.1730   | 2.1065    |271.65 K\n",
    "\n",
    "We can now solve for y = mx + b since we have two equations and two unknowns.\n",
    "\n",
    "To work with this, a calibration file is created.  This is a very simple CSV file that contains 3 values: The raw rQ value, the raw voltage from the square-law detector (discussed later) and the observed temperature.  The table above would then look like the following in the file.\n",
    "```\n",
    ".1139,1.9846,77\n",
    ".1730,2.1065,271.65\n",
    "```\n",
    "- - -\n",
    "\n",
    "It should be noted that from here on out we will just use the LN2 and and ice water bath for our two points.  Because the square-law detector and the SDR have different sensitivities, it will mean that there will be an error when it goes outside of the calibration points.  Multiple points could be used, but traditionally we calibrate a radiometer to just two known points.  "
   ]
  },
  {
   "cell_type": "markdown",
   "metadata": {
    "slideshow": {
     "slide_type": "skip"
    }
   },
   "source": [
    "We need to read in the values from our CSV file that contains the values"
   ]
  },
  {
   "cell_type": "code",
   "execution_count": null,
   "metadata": {
    "collapsed": false,
    "slideshow": {
     "slide_type": "skip"
    }
   },
   "outputs": [],
   "source": [
    "read_csv = open(calib, 'rb')\n",
    "csvread = csv.reader(read_csv)\n",
    "rQ_values = []\n",
    "temp_values = []\n",
    "voltage = []\n",
    "\n",
    "for row in csvread:\n",
    "    rQ,volt,temp = row\n",
    "    rQ_values.append(float(rQ))\n",
    "    voltage.append(float(volt))\n",
    "    temp_values.append(float(temp))\n",
    "read_csv.close()"
   ]
  },
  {
   "cell_type": "markdown",
   "metadata": {
    "slideshow": {
     "slide_type": "slide"
    }
   },
   "source": [
    "Once we have our data points, we just do a simple linear algebra to solve for the two unknowns, this is quite easy to do with NumPy."
   ]
  },
  {
   "cell_type": "code",
   "execution_count": null,
   "metadata": {
    "collapsed": false,
    "slideshow": {
     "slide_type": "subslide"
    }
   },
   "outputs": [],
   "source": [
    "a = numpy.array([[rQ_values[0],1.0],[rQ_values[1],1.0]],numpy.float32)\n",
    "b = numpy.array([temp_values[0],temp_values[1]])"
   ]
  },
  {
   "cell_type": "code",
   "execution_count": null,
   "metadata": {
    "collapsed": false,
    "slideshow": {
     "slide_type": "subslide"
    }
   },
   "outputs": [],
   "source": [
    "z = numpy.linalg.solve(a,b)\n",
    "print z"
   ]
  },
  {
   "cell_type": "markdown",
   "metadata": {
    "slideshow": {
     "slide_type": "slide"
    }
   },
   "source": [
    "Let's now plot this line, this line is our calibration line for this particular data set."
   ]
  },
  {
   "cell_type": "code",
   "execution_count": null,
   "metadata": {
    "collapsed": false,
    "slideshow": {
     "slide_type": "subslide"
    }
   },
   "outputs": [],
   "source": [
    "fig = plt.figure(figsize=(14,6), dpi=300)\n"
   ]
  },
  {
   "cell_type": "markdown",
   "metadata": {
    "slideshow": {
     "slide_type": "slide"
    }
   },
   "source": [
    "Now we apply these values to the array that holds our raw rQ values"
   ]
  },
  {
   "cell_type": "code",
   "execution_count": null,
   "metadata": {
    "collapsed": false,
    "slideshow": {
     "slide_type": "subslide"
    }
   },
   "outputs": [],
   "source": [
    "sdrdata = f*z[0]+z[1]"
   ]
  },
  {
   "cell_type": "markdown",
   "metadata": {
    "slideshow": {
     "slide_type": "slide"
    }
   },
   "source": [
    "Now we can re-plot the graph but this time with the calibrated noise temperatures.  We can also colorize it as well to show the noise temperatures.  "
   ]
  },
  {
   "cell_type": "code",
   "execution_count": null,
   "metadata": {
    "collapsed": true,
    "slideshow": {
     "slide_type": "skip"
    }
   },
   "outputs": [],
   "source": [
    "m = interp1d([70,375],[0,1])\n",
    "g = sdrdata[(4*2):]\n",
    "y = timedata[(4*2):]"
   ]
  },
  {
   "cell_type": "code",
   "execution_count": null,
   "metadata": {
    "collapsed": false,
    "scrolled": true,
    "slideshow": {
     "slide_type": "subslide"
    }
   },
   "outputs": [],
   "source": [
    "fig = plt.figure(figsize=(14,6), dpi=300)\n",
    "plot(y,g)\n",
    "colorline(y,g,m(g),linewidth=7,cmap='coolwarm')\n",
    "xlabel('Time')\n",
    "ylabel('Noise Temperature (K)')\n",
    "title('Temperature vs Time')\n",
    "grid(True)\n",
    "axis([0, 610, 70, 390])\n",
    "plt.annotate('Ice Water', xy=(.20, .7),  xycoords='axes fraction',\n",
    "                xytext=(0.20, 0.85), textcoords='axes fraction',\n",
    "                arrowprops=dict(facecolor='black', shrink=0.05),\n",
    "                horizontalalignment='center', verticalalignment='top',\n",
    "                )\n",
    "plt.annotate('LN2', xy=(.62, .05),  xycoords='axes fraction',\n",
    "                xytext=(0.62, 0.22), textcoords='axes fraction',\n",
    "                arrowprops=dict(facecolor='black', shrink=0.05),\n",
    "                horizontalalignment='center', verticalalignment='top',\n",
    "                )\n",
    "#plt.annotate('Hot Water', xy=(.8, .9),  xycoords='axes fraction',\n",
    "#                xytext=(0.8, 0.75), textcoords='axes fraction',\n",
    "#                arrowprops=dict(facecolor='black', shrink=0.05),\n",
    "#                horizontalalignment='center', verticalalignment='top',\n",
    "#                )\n",
    "fig.savefig(\"sdr_calibrated_color.pdf\", dpi=300)\n",
    "fig.savefig(\"sdr_calibrated_color.png\", dpi=300)"
   ]
  },
  {
   "cell_type": "markdown",
   "metadata": {
    "slideshow": {
     "slide_type": "slide"
    }
   },
   "source": [
    "- - -\n",
    "# Square-law data\n",
    "\n",
    "We now want to look at the data from the Square-Law detector to verify the operation of the SDR.  In the experiment that was conducted above, a power splitter was used to split the RF signal so that one went to the SDR and the other to a square-law detector (with a 3.1 dB loss though).  Therefore both data should be the same.  Let's read and then plot this data."
   ]
  },
  {
   "cell_type": "code",
   "execution_count": null,
   "metadata": {
    "collapsed": false,
    "slideshow": {
     "slide_type": "skip"
    }
   },
   "outputs": [],
   "source": [
    "read_csv = open(x2_data, 'rb')\n",
    "csvread = csv.reader(read_csv)\n",
    "dummy = []\n",
    "x2_voltage = []\n",
    "\n",
    "for row in csvread:\n",
    "    dummy,x2voltage = row    \n",
    "    x2_voltage.append(float(x2voltage))\n",
    "read_csv.close()"
   ]
  },
  {
   "cell_type": "markdown",
   "metadata": {
    "slideshow": {
     "slide_type": "skip"
    }
   },
   "source": [
    "Like the SDR data, we want to have a time reference at the bottom."
   ]
  },
  {
   "cell_type": "code",
   "execution_count": null,
   "metadata": {
    "collapsed": false,
    "slideshow": {
     "slide_type": "skip"
    }
   },
   "outputs": [],
   "source": [
    "w = numpy.linspace(0,(len(x2_voltage)*.01),numpy.size(x2_voltage))"
   ]
  },
  {
   "cell_type": "code",
   "execution_count": null,
   "metadata": {
    "collapsed": false,
    "slideshow": {
     "slide_type": "slide"
    }
   },
   "outputs": [],
   "source": [
    "fig = plt.figure(figsize=(14,6), dpi=300)\n",
    "plot(w,x2_voltage)\n",
    "xlabel('Time (sec)')\n",
    "ylabel('Voltage (V)')\n",
    "title('$X^2$ Voltage vs Time (Noisy)')\n",
    "axis([0, 610, 1.97, 2.15])\n",
    "grid(True)\n",
    "fig.savefig(\"noisy_voltage.pdf\", dpi=300)\n",
    "fig.savefig(\"noisy_voltage.png\", dpi=300)"
   ]
  },
  {
   "cell_type": "markdown",
   "metadata": {
    "slideshow": {
     "slide_type": "slide"
    }
   },
   "source": [
    "Unlike the software defined radio, we do not have an integrator or low pass filter and so the data is very noisy have a filter on it unlike the data we get from the SDR.  We therefore want to apply a filter to to this square-law detector data to help clean it up.\n",
    "\n",
    "Using Scipy, we can use the signal processing tools to generate a low pass filter and then apply it to the data we have.  Once again, python makes this very easy to implement and use."
   ]
  },
  {
   "cell_type": "code",
   "execution_count": null,
   "metadata": {
    "collapsed": false,
    "slideshow": {
     "slide_type": "subslide"
    }
   },
   "outputs": [],
   "source": [
    "from scipy import signal\n",
    "N=100\n",
    "Fc=40\n",
    "Fs=1600\n",
    "h=scipy.signal.firwin(numtaps=N, cutoff=Fc, nyq=Fs/2)\n",
    "x2_filt=scipy.signal.lfilter(h,1.0,x2_voltage)"
   ]
  },
  {
   "cell_type": "code",
   "execution_count": null,
   "metadata": {
    "collapsed": false,
    "slideshow": {
     "slide_type": "subslide"
    }
   },
   "outputs": [],
   "source": [
    "fig = plt.figure(figsize=(14,6), dpi=300)\n",
    "plot(w,x2_filt)\n",
    "xlabel('Time (sec)')\n",
    "ylabel('Voltage (V)')\n",
    "title('$X^2$ Voltage vs Time')\n",
    "axis([0, 610, 1.97, 2.15])\n",
    "grid(True)\n",
    "fig.savefig(\"x2_filter.pdf\", dpi=300)\n",
    "fig.savefig(\"x2_filter.png\", dpi=300)"
   ]
  },
  {
   "cell_type": "markdown",
   "metadata": {
    "slideshow": {
     "slide_type": "slide"
    }
   },
   "source": [
    "Our data is better, but it is not as good as the SDR data for a couple of reasons.  The SDR data goes through an integrator and then is also decimated or is essentially run through a low pass filter.  This process removes a lot of the noise we would normally see in the signal.  However, for our graphing purposes, this will work.\n",
    "\n",
    "Now we wish to calibrate this data as well.  We will use the same file and use the calibration points in that file."
   ]
  },
  {
   "cell_type": "code",
   "execution_count": null,
   "metadata": {
    "collapsed": false,
    "slideshow": {
     "slide_type": "subslide"
    }
   },
   "outputs": [],
   "source": [
    "a = numpy.array([[voltage[0],1.0],[voltage[1],1.0]],numpy.float32)\n",
    "b = numpy.array([temp_values[0],temp_values[1]])"
   ]
  },
  {
   "cell_type": "code",
   "execution_count": null,
   "metadata": {
    "collapsed": false,
    "slideshow": {
     "slide_type": "subslide"
    }
   },
   "outputs": [],
   "source": [
    "z = numpy.linalg.solve(a,b)\n",
    "print z"
   ]
  },
  {
   "cell_type": "code",
   "execution_count": null,
   "metadata": {
    "collapsed": false,
    "slideshow": {
     "slide_type": "skip"
    }
   },
   "outputs": [],
   "source": [
    "x2_calib = x2_filt*z[0]+z[1]"
   ]
  },
  {
   "cell_type": "markdown",
   "metadata": {
    "slideshow": {
     "slide_type": "slide"
    }
   },
   "source": [
    "Now let us plot the data again, but now with it calibrated."
   ]
  },
  {
   "cell_type": "code",
   "execution_count": null,
   "metadata": {
    "collapsed": false,
    "slideshow": {
     "slide_type": "subslide"
    }
   },
   "outputs": [],
   "source": [
    "fig = plt.figure(figsize=(14,6), dpi=300)\n",
    "plot(w,x2_calib)\n",
    "xlabel('Time (sec)')\n",
    "ylabel('Noise Temperature (K)')\n",
    "title('$X^2$ Noise Temperature vs Time')\n",
    "axis([0, 610, 70, 300])\n",
    "grid(True)\n",
    "fig.savefig(\"x2_calibrated.pdf\", dpi=300)\n",
    "fig.savefig(\"x2_calibrated.png\", dpi=300)"
   ]
  },
  {
   "cell_type": "markdown",
   "metadata": {
    "slideshow": {
     "slide_type": "slide"
    }
   },
   "source": [
    "This looks to be the same as our SDR graph, but let's overlay them to make sure"
   ]
  },
  {
   "cell_type": "code",
   "execution_count": null,
   "metadata": {
    "collapsed": false,
    "scrolled": true,
    "slideshow": {
     "slide_type": "subslide"
    }
   },
   "outputs": [],
   "source": [
    "fig = plt.figure(figsize=(14,6), dpi=300)\n",
    "plot(w,x2_calib,'r',label='$X^2$')\n",
    "plot(timedata,sdrdata,'b--',label='SDR')\n",
    "xlabel('Time (sec)')\n",
    "ylabel('Noise Temperature (K)')\n",
    "title('$X^2$ and SDR Noise Temperature vs Time')\n",
    "axis([0, 610, 70, 300])\n",
    "grid(True)\n",
    "legend(loc='lower right')\n",
    "fig.savefig(\"x2_SDR_Calibrated.pdf\", dpi=300)\n",
    "fig.savefig(\"x2_SDR_Calibrated.png\", dpi=300)"
   ]
  },
  {
   "cell_type": "markdown",
   "metadata": {
    "slideshow": {
     "slide_type": "skip"
    }
   },
   "source": [
    "We have some timeshift due to two reasons.  One, the timing isn't always perfect when starting the collection of the two data sets.  And two, we get a timeshift from both the filters used and the integrator.  I have attempted to match them up as best as I can, but some differences are to be expected."
   ]
  },
  {
   "cell_type": "code",
   "execution_count": null,
   "metadata": {
    "collapsed": false
   },
   "outputs": [],
   "source": [
    "#g = g[(4*2):]\n",
    "#y = y[(4*2):]\n",
    "fig = plt.figure(figsize=(14,6), dpi=300)\n",
    "plot(w,x2_calib,'r',label='$X^2$')\n",
    "plot(timedata,sdrdata,'b--',label='SDR')\n",
    "xlabel('Time (sec)')\n",
    "ylabel('Noise Temperature (K)')\n",
    "title('$X^2$ and SDR Noise Temperature vs Time')\n",
    "axis([0, 8, 250, 275])\n",
    "grid(True)\n",
    "legend(loc='lower right')\n",
    "fig.savefig(\"x2_SDR_shift.pdf\", dpi=300)\n",
    "fig.savefig(\"x2_SDR_shift.png\", dpi=300)"
   ]
  },
  {
   "cell_type": "markdown",
   "metadata": {
    "slideshow": {
     "slide_type": "slide"
    }
   },
   "source": [
    "##Application - Soil Moisture Reading\n",
    "One application of radiometers is with Soil Moisture readings.  All items naturally emit RF and the amount of RF emitted from the soil varies depending on how wet or dry it is.  The drier the soil the \"brighter\" it is or we often say it has a warmer noise temperature.  Wet soil then has a cooler or darker noise temperature.  \n",
    "\n",
    "One way for us to show this is with a waterfall display in the software defined radio.  GNURadio allows us to have a waterfall display and we can set the range of the power readings it sees.  This is not a perfect system as it is not running through an integrator, however we can see a change in colors as we change from Ice water to LN2.  There is a limit that GNURadio allowed for the dB range in the waterfall display.  If a smaller range can be defined, the color change should be even more pronounced than what is shown in the pictures below.\n",
    "<img src=\"LN2_waterfall.png\" alt=\"SDR\" width=80%>\n",
    "\n",
    "In our experiments we did not have an actual antenna attached to the radiometer.   Therefore there was no way for us get actual data of different types of soils.  However, we can somewhat fake this by saying that our LN2 is very dry soil or 0% and our ice water is 100% soil moisture.  \n",
    "\n",
    "Let's look at two screen shots of the waterfall display side by side."
   ]
  },
  {
   "cell_type": "code",
   "execution_count": null,
   "metadata": {
    "collapsed": false,
    "slideshow": {
     "slide_type": "slide"
    }
   },
   "outputs": [],
   "source": [
    "plt.rcParams['figure.figsize'] = (16,4)\n",
    "matplotlib.rcParams.update({'font.size': 18, 'text.usetex': True})\n",
    "#plt.tight_layout()\n",
    "fig, (ax_a, ax_b) = plt.subplots(1, 2)\n",
    "#fig, ax2 = plt.subplots(figsize=(18,3), dpi=300)\n",
    "img=mpimg.imread('icewater_waterfall_crop.png')\n",
    "img2=mpimg.imread('LN2_waterfall_crop.png')\n",
    "ax_a.axis('off')\n",
    "ax_a.imshow(img)\n",
    "ax_b.imshow(img2);\n",
    "ax_b.axis('off')\n",
    "ax_a.set_title('Ice Water')\n",
    "ax_b.set_title('LN2')\n",
    "#imgplot = plt.imshow(img)\n",
    "#imgplot = ax2.imshow(img2)\n",
    "#plt.axis('off')\n",
    "#colorbar()\n",
    "fig.savefig(\"waterfall_side.pdf\", dpi=300)\n",
    "fig.savefig(\"waterfall_side.png\", dpi=300)"
   ]
  },
  {
   "cell_type": "markdown",
   "metadata": {
    "slideshow": {
     "slide_type": "slide"
    }
   },
   "source": [
    "We can see in the two images above that left image is \"warmer\" than the right.  The left image is the waterfall display from when it was it ice water.  The image on the right is when the matched load was in LN2.  This is one method to look at, in real time, the overall noise temperature of the system.\n",
    "\n",
    "It should also be noted that that the waterfall display uses color to show power, the x-axis to show frequency, and the y-axis to show time.  Since this display is in real time, time is always changing, and hence why this is referred to as a waterfall display, as it looks like a waterfall when used.  However, since we have frequency information, this will also show us any interferring signal as well.  The signal will show up as a very \"hot\" spot on the waterfall and can let us know visually, where the interferring signal is.  "
   ]
  },
  {
   "cell_type": "markdown",
   "metadata": {
    "slideshow": {
     "slide_type": "slide"
    }
   },
   "source": [
    "Another method for looking at soil moisture both in terms as noise temperature and as a percentage is to map the noise temperature to a percentage and then graph the result.  In the code below we begin by mapping our noise temperature values from 0 to 1.  We can then plot these and add two y-axeses to our graph.  Finally we use colorline to colorize the line to further show the difference in noise temperature."
   ]
  },
  {
   "cell_type": "code",
   "execution_count": null,
   "metadata": {
    "collapsed": true,
    "slideshow": {
     "slide_type": "skip"
    }
   },
   "outputs": [],
   "source": [
    "h = g[:(620*2)]\n",
    "i = y[:(620*2):]"
   ]
  },
  {
   "cell_type": "code",
   "execution_count": null,
   "metadata": {
    "collapsed": false,
    "slideshow": {
     "slide_type": "skip"
    }
   },
   "outputs": [],
   "source": [
    "m = interp1d([72,280],[0,1])\n",
    "j = m(h)"
   ]
  },
  {
   "cell_type": "code",
   "execution_count": null,
   "metadata": {
    "collapsed": false,
    "slideshow": {
     "slide_type": "slide"
    }
   },
   "outputs": [],
   "source": [
    "fig, ax1 = plt.subplots(figsize=(14,6), dpi=300)\n",
    "matplotlib.rcParams.update({'font.size': 18, 'text.usetex': True})\n",
    "ax2 = ax1.twinx()\n",
    "\n",
    "ax1.set_ylabel('Soil Moisture Percentage', color='g')\n",
    "ax2.set_ylabel('Noise Temperature', color='b')\n",
    "#plot(y,g)\n",
    "colorline(i,h,j,linewidth=5,cmap='coolwarm')\n",
    "colorline(i,j,j,cmap='coolwarm')\n",
    "xlabel('Time')\n",
    "#ylabel('Noise Temperature (K)')\n",
    "title('Temperature vs Time')\n",
    "grid(True)\n",
    "axis([0, 650, 72, 280])\n",
    "fig.savefig(\"sdr_soilmoisture.pdf\", dpi=300)\n",
    "fig.savefig(\"sdr_soilmoisture.png\", dpi=300)"
   ]
  },
  {
   "cell_type": "markdown",
   "metadata": {
    "collapsed": false,
    "slideshow": {
     "slide_type": "slide"
    }
   },
   "source": [
    "---\n",
    "## Sensitivity\n",
    "Earlier, we calculated the $NE\\Delta T$ and figured out what we should expect for this value.  Our change in the equivelent noise temperature, $NE\\Delta T$, can also be thought as the standard deviation of the data.  To look at this, we will first zoom in to a section of the graph, let's look at when the matched load was in LN2, which is a very stable temperature point.  We do this by trimming the data to just the points we want, in our case we will look between 350 to 425 seconds."
   ]
  },
  {
   "cell_type": "code",
   "execution_count": null,
   "metadata": {
    "collapsed": false,
    "slideshow": {
     "slide_type": "skip"
    }
   },
   "outputs": [],
   "source": [
    "g = g[(350*2):]\n",
    "g = g[:(425*.5)]\n",
    "y = y[(350*2):]\n",
    "y = y[:(425*.5)]"
   ]
  },
  {
   "cell_type": "code",
   "execution_count": null,
   "metadata": {
    "collapsed": false,
    "slideshow": {
     "slide_type": "slide"
    }
   },
   "outputs": [],
   "source": [
    "fig = plt.figure(figsize=(14,6), dpi=300)\n",
    "plot(y,g)\n",
    "xlabel('Time (sec)')\n",
    "ylabel('Noise Temperature (K)')\n",
    "title('SDR Data between 350 and 450 seconds')\n",
    "grid(True)\n",
    "axis([340, 450, 76, 78])\n",
    "fig.savefig(\"SDR_Zoom.pdf\", dpi=300)\n",
    "fig.savefig(\"SDR_Zoom.png\", dpi=300)"
   ]
  },
  {
   "cell_type": "markdown",
   "metadata": {
    "slideshow": {
     "slide_type": "slide"
    }
   },
   "source": [
    "Now let's do a standard deviation on this data.  We will also do a polyfit to the line as well."
   ]
  },
  {
   "cell_type": "code",
   "execution_count": null,
   "metadata": {
    "collapsed": false,
    "slideshow": {
     "slide_type": "subslide"
    }
   },
   "outputs": [],
   "source": [
    "stdsdr = numpy.std(g)\n",
    "print stdsdr\n",
    "p = numpy.polyfit(y,g,2)\n",
    "print p"
   ]
  },
  {
   "cell_type": "markdown",
   "metadata": {
    "slideshow": {
     "slide_type": "subslide"
    }
   },
   "source": [
    "Our standard deviation is .23 Kelvin.  We calculated our $NE\\Delta T$ to be about .09 Kelvin.  Again, some error is to be expected as our $NE\\Delta T$ equation is a bit simplified.  However, .23 Kelvin is still well within our desired $NE\\Delta T$ of 1 Kelvin, so our experimental results show that the performance of this radiometer is accetable.  \n",
    "\n",
    "Let's now plot our data with our polynominal fitted line.  We will then also plot the standard deviation as well."
   ]
  },
  {
   "cell_type": "code",
   "execution_count": null,
   "metadata": {
    "collapsed": false,
    "slideshow": {
     "slide_type": "subslide"
    }
   },
   "outputs": [],
   "source": [
    "fig = plt.figure(figsize=(14,6), dpi=300)\n",
    "plot(y,g)\n",
    "plot(y,p[0]*y*y+p[1]*y+p[2],'r-')\n",
    "xlabel('Time (sec)')\n",
    "ylabel('Noise Temperature (K)')\n",
    "title('Noise Temperature vs Time with 2nd order polynominal line fitting')\n",
    "grid(True)\n",
    "fig.savefig(\"std_dev_fitline.pdf\", dpi=300)\n",
    "fig.savefig(\"std_dev_fitline.png\", dpi=300)"
   ]
  },
  {
   "cell_type": "code",
   "execution_count": null,
   "metadata": {
    "collapsed": false,
    "scrolled": true,
    "slideshow": {
     "slide_type": "subslide"
    }
   },
   "outputs": [],
   "source": [
    "fig = plt.figure(figsize=(14,6), dpi=300)\n",
    "b = p[0]*y*y+p[1]*y+p[2]\n",
    "plot(y,g,'r-')\n",
    "errorbar(y,b,stdsdr,label='Std. Deviation')\n",
    "errorbar(y,b,NEAT_SDR,ecolor='g', label='$NE\\Delta T$')\n",
    "xlabel('Time (sec)')\n",
    "ylabel('Noise Temperature (K)')\n",
    "title('Noise Temperature vs Time with standard deviation shown')\n",
    "grid(True)\n",
    "legend(loc='upper right')\n",
    "fig.savefig(\"std_dev_errbar.pdf\", dpi=300)\n",
    "fig.savefig(\"std_dev_errbar.png\", dpi=300)"
   ]
  },
  {
   "cell_type": "markdown",
   "metadata": {
    "slideshow": {
     "slide_type": "slide"
    }
   },
   "source": [
    "In conclusion, both the Software Defined Radio configured as a radiometer and the square-law detector performed as expected.  We were able to record total power information, calibrate them to our known temperatures, and then look at the data.  The $NE\\Delta T$ of the software defined radio was calculated and also determined from our graphs of the data.  Both of those values were reasonable and were below our desired 1 K value.  "
   ]
  }
 ],
 "metadata": {
  "celltoolbar": "Slideshow",
  "kernelspec": {
   "display_name": "Python 2",
   "language": "python",
   "name": "python2"
  },
  "language_info": {
   "codemirror_mode": {
    "name": "ipython",
    "version": 2
   },
   "file_extension": ".py",
   "mimetype": "text/x-python",
   "name": "python",
   "nbconvert_exporter": "python",
   "pygments_lexer": "ipython2",
   "version": "2.7.9"
  }
 },
 "nbformat": 4,
 "nbformat_minor": 0
}
